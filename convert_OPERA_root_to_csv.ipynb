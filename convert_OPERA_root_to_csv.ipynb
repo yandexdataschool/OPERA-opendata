{
 "cells": [
  {
   "cell_type": "code",
   "execution_count": 1,
   "metadata": {
    "collapsed": true
   },
   "outputs": [],
   "source": [
    "import seaborn\n",
    "from mpl_toolkits.mplot3d import Axes3D\n",
    "from mpl_toolkits.mplot3d.art3d import Line3DCollection\n",
    "from matplotlib import pylab as plt\n",
    "import root_numpy\n",
    "import pandas as pd\n",
    "import numpy as np\n",
    "from tqdm import tqdm\n",
    "\n",
    "BRICK_X = 124000\n",
    "BRICK_Y = 99000\n",
    "BRICK_Z = 75000\n",
    "SAFE_M = 10000"
   ]
  },
  {
   "cell_type": "markdown",
   "metadata": {},
   "source": [
    "## Load e-m showers basetracks"
   ]
  },
  {
   "cell_type": "code",
   "execution_count": 2,
   "metadata": {
    "collapsed": true
   },
   "outputs": [],
   "source": [
    "def load_mc(filename, step=1):\n",
    "    mc = root_numpy.root2array(\n",
    "                        filename,\n",
    "                        treename=\"Data\",\n",
    "                        branches=[\"Event_id\", \"ele_P\",\n",
    "                                   \"BT_X\", \"BT_Y\", \"BT_Z\",\n",
    "                                   \"BT_SX\", \"BT_SY\", \"BT_plate\",\n",
    "                                   \"ele_x\", \"ele_y\", \"ele_z\", \n",
    "                                   \"ele_sx\", \"ele_sy\", \n",
    "                                   \"chisquare\", \"alfa\", \"deltaSx\", \"deltaSy\"],\n",
    "                        step=step)\n",
    "    pmc = pd.DataFrame(mc)\n",
    "    pmc['numtracks'] = pmc.BT_X.apply(lambda x: len(x))\n",
    "    # safety cuts\n",
    "    shapechange = [pmc.shape[0]]\n",
    "    pmc = pmc[pmc.ele_P > 0.1]\n",
    "    shapechange.append(pmc.shape[0])\n",
    "    pmc = pmc[pmc.ele_x.abs() < BRICK_X / 2 - SAFE_M]\n",
    "    shapechange.append(pmc.shape[0])\n",
    "    pmc = pmc[pmc.ele_y.abs() < BRICK_Y / 2 - SAFE_M]\n",
    "    shapechange.append(pmc.shape[0])\n",
    "    pmc = pmc[pmc.ele_z < 0]\n",
    "    shapechange.append(pmc.shape[0])\n",
    "    pmc = pmc[pmc.numtracks > 3]\n",
    "    shapechange.append(pmc.shape[0])\n",
    "    # print (\"numtracks reduction by cuts: \", shapechange)\n",
    " \n",
    "    pmc.BT_X += BRICK_X / 2\n",
    "    pmc.BT_Y += BRICK_Y / 2\n",
    "    pmc.BT_Z += BRICK_Z / 2\n",
    "    pmc.ele_x += BRICK_X / 2\n",
    "    pmc.ele_y += BRICK_Y / 2\n",
    "    pmc.ele_z += BRICK_Z / 2\n",
    "  \n",
    "    # Correct Z coordinate to match plates coordinates\n",
    "    pmc.BT_Z = (pmc.BT_plate - 1) * 1293\n",
    "    \n",
    "    return pmc\n",
    "    "
   ]
  },
  {
   "cell_type": "code",
   "execution_count": 3,
   "metadata": {
    "collapsed": true
   },
   "outputs": [],
   "source": [
    "path_nu_root = 'data_root/mcdata_nue_10k.root'\n",
    "path_tau_root = 'data_root/mcdata_taue_10k.root'"
   ]
  },
  {
   "cell_type": "code",
   "execution_count": 4,
   "metadata": {
    "collapsed": true
   },
   "outputs": [],
   "source": [
    "path_nu_csv = 'data_csv/mcdata_nue_10k'\n",
    "path_tau_csv = 'data_csv/mcdata_taue_10k'"
   ]
  },
  {
   "cell_type": "code",
   "execution_count": 5,
   "metadata": {},
   "outputs": [
    {
     "name": "stderr",
     "output_type": "stream",
     "text": [
      "TClass::Init:0: RuntimeWarning: no dictionary for class ROOT::TIOFeatures is available\n"
     ]
    }
   ],
   "source": [
    "df_nu = load_mc(path_nu_root)\n",
    "df_tau = load_mc(path_tau_root)"
   ]
  },
  {
   "cell_type": "code",
   "execution_count": 6,
   "metadata": {},
   "outputs": [
    {
     "data": {
      "text/html": [
       "<div>\n",
       "<style>\n",
       "    .dataframe thead tr:only-child th {\n",
       "        text-align: right;\n",
       "    }\n",
       "\n",
       "    .dataframe thead th {\n",
       "        text-align: left;\n",
       "    }\n",
       "\n",
       "    .dataframe tbody tr th {\n",
       "        vertical-align: top;\n",
       "    }\n",
       "</style>\n",
       "<table border=\"1\" class=\"dataframe\">\n",
       "  <thead>\n",
       "    <tr style=\"text-align: right;\">\n",
       "      <th></th>\n",
       "      <th>Event_id</th>\n",
       "      <th>ele_P</th>\n",
       "      <th>BT_X</th>\n",
       "      <th>BT_Y</th>\n",
       "      <th>BT_Z</th>\n",
       "      <th>BT_SX</th>\n",
       "      <th>BT_SY</th>\n",
       "      <th>BT_plate</th>\n",
       "      <th>ele_x</th>\n",
       "      <th>ele_y</th>\n",
       "      <th>ele_z</th>\n",
       "      <th>ele_sx</th>\n",
       "      <th>ele_sy</th>\n",
       "      <th>chisquare</th>\n",
       "      <th>alfa</th>\n",
       "      <th>deltaSx</th>\n",
       "      <th>deltaSy</th>\n",
       "      <th>numtracks</th>\n",
       "    </tr>\n",
       "  </thead>\n",
       "  <tbody>\n",
       "    <tr>\n",
       "      <th>0</th>\n",
       "      <td>152290</td>\n",
       "      <td>40.411060</td>\n",
       "      <td>[33844.0, 33885.6, 33927.1, 33926.6, 33947.5, ...</td>\n",
       "      <td>[49176.7, 49183.7, 49190.9, 49191.4, 49187.0, ...</td>\n",
       "      <td>[21981, 23274, 24567, 24567, 24567, 25860, 258...</td>\n",
       "      <td>[0.0322676, 0.0324748, 0.0311172, 0.0285943, 0...</td>\n",
       "      <td>[0.00903987, 0.00643338, 0.0103145, 0.00348215...</td>\n",
       "      <td>[18, 19, 20, 20, 20, 21, 21, 22, 22, 23, 23, 2...</td>\n",
       "      <td>33840.695312</td>\n",
       "      <td>49175.777344</td>\n",
       "      <td>21980.984375</td>\n",
       "      <td>0.036384</td>\n",
       "      <td>0.002931</td>\n",
       "      <td>[0.616263, 0.733469, 1.40148, 0.724876, 1.3671...</td>\n",
       "      <td>[0.00273792, 0.0375241, 0.0737786, 0.0737801, ...</td>\n",
       "      <td>[-0.00411633, -0.00390913, -0.00526671, -0.007...</td>\n",
       "      <td>[0.00610876, 0.00350226, 0.00738337, 0.0005510...</td>\n",
       "      <td>1630</td>\n",
       "    </tr>\n",
       "    <tr>\n",
       "      <th>12</th>\n",
       "      <td>153818</td>\n",
       "      <td>19.301327</td>\n",
       "      <td>[45775.7, 45646.4, 45646.4, 45644.7, 45518.8, ...</td>\n",
       "      <td>[24100.3, 24113.4, 24113.2, 24113.1, 24126.8, ...</td>\n",
       "      <td>[23274, 24567, 24567, 24567, 25860, 25860, 258...</td>\n",
       "      <td>[-0.10461, -0.0973416, -0.10394, -0.110766, -0...</td>\n",
       "      <td>[0.0101344, 0.0117193, 0.0121083, 0.0100014, 0...</td>\n",
       "      <td>[19, 20, 20, 20, 21, 21, 21, 22, 22, 22, 22, 2...</td>\n",
       "      <td>45786.214844</td>\n",
       "      <td>24099.283203</td>\n",
       "      <td>23252.882812</td>\n",
       "      <td>-0.093035</td>\n",
       "      <td>0.009329</td>\n",
       "      <td>[0.43341, 1.09776, 0.498545, 0.506697, 0.81049...</td>\n",
       "      <td>[0.00281573, 0.0389297, 0.0388759, 0.0388825, ...</td>\n",
       "      <td>[-0.0115757, -0.00430691, -0.0109049, -0.01773...</td>\n",
       "      <td>[0.000805694, 0.00239067, 0.00277967, 0.000672...</td>\n",
       "      <td>1411</td>\n",
       "    </tr>\n",
       "  </tbody>\n",
       "</table>\n",
       "</div>"
      ],
      "text/plain": [
       "    Event_id      ele_P                                               BT_X  \\\n",
       "0     152290  40.411060  [33844.0, 33885.6, 33927.1, 33926.6, 33947.5, ...   \n",
       "12    153818  19.301327  [45775.7, 45646.4, 45646.4, 45644.7, 45518.8, ...   \n",
       "\n",
       "                                                 BT_Y  \\\n",
       "0   [49176.7, 49183.7, 49190.9, 49191.4, 49187.0, ...   \n",
       "12  [24100.3, 24113.4, 24113.2, 24113.1, 24126.8, ...   \n",
       "\n",
       "                                                 BT_Z  \\\n",
       "0   [21981, 23274, 24567, 24567, 24567, 25860, 258...   \n",
       "12  [23274, 24567, 24567, 24567, 25860, 25860, 258...   \n",
       "\n",
       "                                                BT_SX  \\\n",
       "0   [0.0322676, 0.0324748, 0.0311172, 0.0285943, 0...   \n",
       "12  [-0.10461, -0.0973416, -0.10394, -0.110766, -0...   \n",
       "\n",
       "                                                BT_SY  \\\n",
       "0   [0.00903987, 0.00643338, 0.0103145, 0.00348215...   \n",
       "12  [0.0101344, 0.0117193, 0.0121083, 0.0100014, 0...   \n",
       "\n",
       "                                             BT_plate         ele_x  \\\n",
       "0   [18, 19, 20, 20, 20, 21, 21, 22, 22, 23, 23, 2...  33840.695312   \n",
       "12  [19, 20, 20, 20, 21, 21, 21, 22, 22, 22, 22, 2...  45786.214844   \n",
       "\n",
       "           ele_y         ele_z    ele_sx    ele_sy  \\\n",
       "0   49175.777344  21980.984375  0.036384  0.002931   \n",
       "12  24099.283203  23252.882812 -0.093035  0.009329   \n",
       "\n",
       "                                            chisquare  \\\n",
       "0   [0.616263, 0.733469, 1.40148, 0.724876, 1.3671...   \n",
       "12  [0.43341, 1.09776, 0.498545, 0.506697, 0.81049...   \n",
       "\n",
       "                                                 alfa  \\\n",
       "0   [0.00273792, 0.0375241, 0.0737786, 0.0737801, ...   \n",
       "12  [0.00281573, 0.0389297, 0.0388759, 0.0388825, ...   \n",
       "\n",
       "                                              deltaSx  \\\n",
       "0   [-0.00411633, -0.00390913, -0.00526671, -0.007...   \n",
       "12  [-0.0115757, -0.00430691, -0.0109049, -0.01773...   \n",
       "\n",
       "                                              deltaSy  numtracks  \n",
       "0   [0.00610876, 0.00350226, 0.00738337, 0.0005510...       1630  \n",
       "12  [0.000805694, 0.00239067, 0.00277967, 0.000672...       1411  "
      ]
     },
     "execution_count": 6,
     "metadata": {},
     "output_type": "execute_result"
    }
   ],
   "source": [
    "df_nu.head(2)"
   ]
  },
  {
   "cell_type": "code",
   "execution_count": 7,
   "metadata": {},
   "outputs": [],
   "source": [
    "def convert_to_csv(df, path, hdf=False):\n",
    "    df_vert = pd.DataFrame.from_items([        \n",
    "                    ('ele_x', df['ele_x']),\n",
    "                    ('ele_y', df['ele_y']),\n",
    "                    ('ele_z', df['ele_z']),\n",
    "                    ('ele_sx', df['ele_sx']),\n",
    "                    ('ele_sy', df['ele_sy']),\n",
    "                    ('ele_P', df['ele_P']),\n",
    "                    ('event_id', df['Event_id'])])\n",
    "    df_vert.event_id = df_vert.event_id.astype(np.int32)\n",
    "    df_vert.to_csv(path + '_showers.csv', index=False)\n",
    "    \n",
    "    showers = []\n",
    "    for _, row in tqdm(df.iterrows(), total=len(df)):\n",
    "        dmc = pd.DataFrame.from_items([\n",
    "                    ('event_id', row['Event_id'] * np.ones(len(row['BT_SY']))),\n",
    "                    ('BT_X', row['BT_X']),\n",
    "                    ('BT_Y', row['BT_Y']),\n",
    "                    ('BT_Z', row['BT_Z']),\n",
    "                    ('BT_SX', row['BT_SX']),\n",
    "                    ('BT_SY', row['BT_SY']),\n",
    "                    ('chisquare', row.chisquare[row.chisquare < 3])\n",
    "        ])\n",
    "        showers.append(dmc)\n",
    "        \n",
    "    df_bck = pd.concat(showers, ignore_index=True)\n",
    "    df_bck.event_id = df_bck.event_id.astype(np.int32)\n",
    "    if (hdf == True):\n",
    "        df_bck.to_hdf(path + '_basetracks.hdf5', key='data', format='table',complevel=9, append=True)\n",
    "    else:\n",
    "        df_bck.to_csv(path + '_basetracks.csv', index=False)\n",
    "\n",
    "    return df_vert, df_bck"
   ]
  },
  {
   "cell_type": "markdown",
   "metadata": {},
   "source": [
    "Test load function\n",
    "```\n",
    "v, b = convert_to_csv(taue.loc[[0,7]], path_tau_csv)\n",
    "v.head(), b.head(), \n",
    "```"
   ]
  },
  {
   "cell_type": "code",
   "execution_count": 8,
   "metadata": {},
   "outputs": [
    {
     "name": "stderr",
     "output_type": "stream",
     "text": [
      "100%|██████████| 2676/2676 [00:02<00:00, 1053.34it/s]\n"
     ]
    },
    {
     "name": "stdout",
     "output_type": "stream",
     "text": [
      "CPU times: user 38.9 s, sys: 832 ms, total: 39.7 s\n",
      "Wall time: 39.9 s\n"
     ]
    }
   ],
   "source": [
    "%%time\n",
    "_, _ = convert_to_csv(df_nu, path_nu_csv)"
   ]
  },
  {
   "cell_type": "code",
   "execution_count": 9,
   "metadata": {},
   "outputs": [
    {
     "name": "stderr",
     "output_type": "stream",
     "text": [
      "100%|██████████| 3247/3247 [00:02<00:00, 1143.42it/s]\n"
     ]
    },
    {
     "name": "stdout",
     "output_type": "stream",
     "text": [
      "CPU times: user 21 s, sys: 400 ms, total: 21.4 s\n",
      "Wall time: 21.6 s\n"
     ]
    }
   ],
   "source": [
    "%%time\n",
    "_, _ = convert_to_csv(df_tau, path_tau_csv);"
   ]
  },
  {
   "cell_type": "markdown",
   "metadata": {},
   "source": [
    "## Load background basetracks"
   ]
  },
  {
   "cell_type": "code",
   "execution_count": 10,
   "metadata": {
    "collapsed": true
   },
   "outputs": [],
   "source": [
    "path_background_base_root = \"data_root/brick-129294\"\n",
    "path_background_csv = \"data_csv/background-129294.csv\""
   ]
  },
  {
   "cell_type": "code",
   "execution_count": 11,
   "metadata": {},
   "outputs": [],
   "source": [
    "def load_bg(basedir, step=1):\n",
    "    # ignore 57th layer since it looks different\n",
    "    etalon_plates = []\n",
    "    for p in range(48, 57):\n",
    "        basetracks = root_numpy.root2array(\"{basedir}/129294.{p}.1.1000.cp.root\".format(basedir=basedir, p=p), \n",
    "                                       treename=\"couples\", \n",
    "                                       branches=[\"s.eX\", \"s.eY\", \"s.eZ\",\n",
    "                                                \"s.eTX\", \"s.eTY\",\n",
    "                                                \"s.eChi2\"], step=step)\n",
    "        etalon_plates.append(basetracks)\n",
    "        \n",
    "    df = None\n",
    "    plates = []\n",
    "    for p in range(58):\n",
    "        plate = np.copy(etalon_plates[p % len(etalon_plates)])\n",
    "        plate['s.eZ'] = p * 1293\n",
    "        df_plate = pd.DataFrame(plate)\n",
    "        plates.append(df_plate)\n",
    "    df = pd.concat(plates, ignore_index=True)\n",
    "    df = df.rename(columns={'s.eX': 'ele_x', 's.eY':'ele_y', 's.eZ':'ele_z', \n",
    "                    's.eTX': 'ele_sx', 's.eTY':'ele_sy', 's.eChi2': 'chisquare'})\n",
    "    print (\"created: {n} tracks\".format(n=df.shape[0]))\n",
    "    return df"
   ]
  },
  {
   "cell_type": "code",
   "execution_count": 12,
   "metadata": {},
   "outputs": [
    {
     "name": "stderr",
     "output_type": "stream",
     "text": [
      "TClass::Init:0: RuntimeWarning: no dictionary for class EdbPoint2D is available\n",
      "TClass::Init:0: RuntimeWarning: no dictionary for class EdbPoint is available\n",
      "TClass::Init:0: RuntimeWarning: no dictionary for class EdbTrack2D is available\n"
     ]
    },
    {
     "name": "stdout",
     "output_type": "stream",
     "text": [
      "created: 27322110 tracks\n",
      "CPU times: user 5.44 s, sys: 1.3 s, total: 6.74 s\n",
      "Wall time: 6.73 s\n"
     ]
    },
    {
     "name": "stderr",
     "output_type": "stream",
     "text": [
      "TClass::Init:0: RuntimeWarning: no dictionary for class EdbAngle2D is available\n",
      "TClass::Init:0: RuntimeWarning: no dictionary for class EdbSegCouple is available\n",
      "TClass::Init:0: RuntimeWarning: no dictionary for class EdbSegP is available\n",
      "TClass::Init:0: RuntimeWarning: no dictionary for class EdbID is available\n"
     ]
    }
   ],
   "source": [
    "%%time\n",
    "df_bg = load_bg(path_background_base_root)"
   ]
  },
  {
   "cell_type": "code",
   "execution_count": 13,
   "metadata": {},
   "outputs": [
    {
     "data": {
      "text/html": [
       "<div>\n",
       "<style>\n",
       "    .dataframe thead tr:only-child th {\n",
       "        text-align: right;\n",
       "    }\n",
       "\n",
       "    .dataframe thead th {\n",
       "        text-align: left;\n",
       "    }\n",
       "\n",
       "    .dataframe tbody tr th {\n",
       "        vertical-align: top;\n",
       "    }\n",
       "</style>\n",
       "<table border=\"1\" class=\"dataframe\">\n",
       "  <thead>\n",
       "    <tr style=\"text-align: right;\">\n",
       "      <th></th>\n",
       "      <th>ele_x</th>\n",
       "      <th>ele_y</th>\n",
       "      <th>ele_z</th>\n",
       "      <th>ele_sx</th>\n",
       "      <th>ele_sy</th>\n",
       "      <th>chisquare</th>\n",
       "    </tr>\n",
       "  </thead>\n",
       "  <tbody>\n",
       "    <tr>\n",
       "      <th>0</th>\n",
       "      <td>52762.921875</td>\n",
       "      <td>46909.019531</td>\n",
       "      <td>0.0</td>\n",
       "      <td>0.346038</td>\n",
       "      <td>0.003274</td>\n",
       "      <td>0.054294</td>\n",
       "    </tr>\n",
       "    <tr>\n",
       "      <th>1</th>\n",
       "      <td>58770.843750</td>\n",
       "      <td>46742.039062</td>\n",
       "      <td>0.0</td>\n",
       "      <td>0.121466</td>\n",
       "      <td>0.658594</td>\n",
       "      <td>0.061270</td>\n",
       "    </tr>\n",
       "  </tbody>\n",
       "</table>\n",
       "</div>"
      ],
      "text/plain": [
       "          ele_x         ele_y  ele_z    ele_sx    ele_sy  chisquare\n",
       "0  52762.921875  46909.019531    0.0  0.346038  0.003274   0.054294\n",
       "1  58770.843750  46742.039062    0.0  0.121466  0.658594   0.061270"
      ]
     },
     "execution_count": 13,
     "metadata": {},
     "output_type": "execute_result"
    }
   ],
   "source": [
    "df_bg.head(2)"
   ]
  },
  {
   "cell_type": "code",
   "execution_count": 14,
   "metadata": {
    "collapsed": true
   },
   "outputs": [],
   "source": [
    "%time df_bg.to_csv(path_background_csv, index=False)"
   ]
  }
 ],
 "metadata": {
  "kernelspec": {
   "display_name": "Python 3",
   "language": "python",
   "name": "python3"
  },
  "language_info": {
   "codemirror_mode": {
    "name": "ipython",
    "version": 3
   },
   "file_extension": ".py",
   "mimetype": "text/x-python",
   "name": "python",
   "nbconvert_exporter": "python",
   "pygments_lexer": "ipython3",
   "version": "3.6.2"
  }
 },
 "nbformat": 4,
 "nbformat_minor": 1
}
